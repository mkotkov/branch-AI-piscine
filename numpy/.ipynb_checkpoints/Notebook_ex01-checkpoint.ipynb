{
 "cells": [
  {
   "cell_type": "code",
   "execution_count": 3,
   "id": "b045d146-90e2-440f-9dae-ef25c097848e",
   "metadata": {},
   "outputs": [
    {
     "name": "stdout",
     "output_type": "stream",
     "text": [
      "<class 'int'>\n",
      "<class 'float'>\n",
      "<class 'str'>\n",
      "<class 'dict'>\n",
      "<class 'list'>\n",
      "<class 'tuple'>\n",
      "<class 'set'>\n",
      "<class 'bool'>\n"
     ]
    }
   ],
   "source": [
    "import numpy as np\n",
    "\n",
    "# create an array with different data types\n",
    "np_array = np.array([\n",
    "    42,                     # int\n",
    "    3.14,                   # float\n",
    "    \"hello\",                # string\n",
    "    {\"key\": \"value\"},       # dict\n",
    "    [1, 2, 3],              # list\n",
    "    (4, 5, 6),              # tuple\n",
    "    {7, 8, 9},              # set\n",
    "    True                   # boolean\n",
    "], dtype=object)\n",
    "\n",
    "# output the tupe of each element\n",
    "for i in np_array:\n",
    "    print(type(i))\n"
   ]
  },
  {
   "cell_type": "code",
   "execution_count": null,
   "id": "e0850674-e6c4-4cef-889d-31ad76ec4d94",
   "metadata": {},
   "outputs": [],
   "source": []
  }
 ],
 "metadata": {
  "kernelspec": {
   "display_name": "Python 3 (ipykernel)",
   "language": "python",
   "name": "python3"
  },
  "language_info": {
   "codemirror_mode": {
    "name": "ipython",
    "version": 3
   },
   "file_extension": ".py",
   "mimetype": "text/x-python",
   "name": "python",
   "nbconvert_exporter": "python",
   "pygments_lexer": "ipython3",
   "version": "3.13.5"
  }
 },
 "nbformat": 4,
 "nbformat_minor": 5
}
